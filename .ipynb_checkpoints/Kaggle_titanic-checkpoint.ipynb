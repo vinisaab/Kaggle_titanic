{
 "cells": [
  {
   "cell_type": "markdown",
   "metadata": {},
   "source": [
    "# kaggle Titanic Python/Pandas/DecisionTree\n",
    "\n",
    "Predicting who will survive to Titanic"
   ]
  },
  {
   "cell_type": "markdown",
   "metadata": {},
   "source": [
    "## Libraries"
   ]
  },
  {
   "cell_type": "code",
   "execution_count": 3,
   "metadata": {},
   "outputs": [],
   "source": [
    "##set path for multiple versions\n",
    "import sys\n",
    "sys.path.insert(0,'/home/atom/.local/lib/python3.6/site-packages')\n",
    "import pandas as pd \n",
    "import numpy as np\n",
    "import re\n",
    "from sklearn.tree import DecisionTreeClassifier\n",
    "#To ignore warnings\n",
    "import warnings\n",
    "warnings.filterwarnings(\"ignore\")\n",
    "import matplotlib.pyplot as plt\n",
    "import matplotlib.dates as md\n",
    "import dateutil\n",
    "import matplotlib.pyplot as plt"
   ]
  },
  {
   "cell_type": "markdown",
   "metadata": {},
   "source": [
    "## Data"
   ]
  },
  {
   "cell_type": "code",
   "execution_count": 4,
   "metadata": {},
   "outputs": [],
   "source": [
    "train_data = pd.read_csv('Data/train.csv')\n",
    "test_data = pd.read_csv('Data/test.csv')\n",
    "all_data = [train_data, test_data]"
   ]
  },
  {
   "cell_type": "code",
   "execution_count": 5,
   "metadata": {},
   "outputs": [],
   "source": [
    "# Descriptions\n",
    "\n",
    "#PassengerId : int     : Id\n",
    "#Survived    : int     : Survival (0=No; 1=Yes)\n",
    "#Pclass      : int     : Passenger Class\n",
    "#Name        : object  : Name\n",
    "#Sex         : object  : Sex\n",
    "#Age         : float   : Age\n",
    "#SibSp       : int     : Number of Siblings/Spouses Aboard\n",
    "#Parch       : int     : Number of Parents/Children Aboard\n",
    "#Ticket      : object  : Ticket Number\n",
    "#Fare        : float   : Passenger Fare\n",
    "#Cabin       : object  : Cabin\n",
    "#Embarked    : object  : Port of Embarkation\n",
    "#                        (C=Cherbourg; Q=Queenstown; S=Southampton)"
   ]
  },
  {
   "cell_type": "code",
   "execution_count": 6,
   "metadata": {},
   "outputs": [
    {
     "data": {
      "text/html": [
       "<div>\n",
       "<style scoped>\n",
       "    .dataframe tbody tr th:only-of-type {\n",
       "        vertical-align: middle;\n",
       "    }\n",
       "\n",
       "    .dataframe tbody tr th {\n",
       "        vertical-align: top;\n",
       "    }\n",
       "\n",
       "    .dataframe thead th {\n",
       "        text-align: right;\n",
       "    }\n",
       "</style>\n",
       "<table border=\"1\" class=\"dataframe\">\n",
       "  <thead>\n",
       "    <tr style=\"text-align: right;\">\n",
       "      <th></th>\n",
       "      <th>PassengerId</th>\n",
       "      <th>Survived</th>\n",
       "      <th>Pclass</th>\n",
       "      <th>Age</th>\n",
       "      <th>SibSp</th>\n",
       "      <th>Parch</th>\n",
       "      <th>Fare</th>\n",
       "    </tr>\n",
       "  </thead>\n",
       "  <tbody>\n",
       "    <tr>\n",
       "      <th>count</th>\n",
       "      <td>891.000000</td>\n",
       "      <td>891.000000</td>\n",
       "      <td>891.000000</td>\n",
       "      <td>714.000000</td>\n",
       "      <td>891.000000</td>\n",
       "      <td>891.000000</td>\n",
       "      <td>891.000000</td>\n",
       "    </tr>\n",
       "    <tr>\n",
       "      <th>mean</th>\n",
       "      <td>446.000000</td>\n",
       "      <td>0.383838</td>\n",
       "      <td>2.308642</td>\n",
       "      <td>29.699118</td>\n",
       "      <td>0.523008</td>\n",
       "      <td>0.381594</td>\n",
       "      <td>32.204208</td>\n",
       "    </tr>\n",
       "    <tr>\n",
       "      <th>std</th>\n",
       "      <td>257.353842</td>\n",
       "      <td>0.486592</td>\n",
       "      <td>0.836071</td>\n",
       "      <td>14.526497</td>\n",
       "      <td>1.102743</td>\n",
       "      <td>0.806057</td>\n",
       "      <td>49.693429</td>\n",
       "    </tr>\n",
       "    <tr>\n",
       "      <th>min</th>\n",
       "      <td>1.000000</td>\n",
       "      <td>0.000000</td>\n",
       "      <td>1.000000</td>\n",
       "      <td>0.420000</td>\n",
       "      <td>0.000000</td>\n",
       "      <td>0.000000</td>\n",
       "      <td>0.000000</td>\n",
       "    </tr>\n",
       "    <tr>\n",
       "      <th>25%</th>\n",
       "      <td>223.500000</td>\n",
       "      <td>0.000000</td>\n",
       "      <td>2.000000</td>\n",
       "      <td>20.125000</td>\n",
       "      <td>0.000000</td>\n",
       "      <td>0.000000</td>\n",
       "      <td>7.910400</td>\n",
       "    </tr>\n",
       "    <tr>\n",
       "      <th>50%</th>\n",
       "      <td>446.000000</td>\n",
       "      <td>0.000000</td>\n",
       "      <td>3.000000</td>\n",
       "      <td>28.000000</td>\n",
       "      <td>0.000000</td>\n",
       "      <td>0.000000</td>\n",
       "      <td>14.454200</td>\n",
       "    </tr>\n",
       "    <tr>\n",
       "      <th>75%</th>\n",
       "      <td>668.500000</td>\n",
       "      <td>1.000000</td>\n",
       "      <td>3.000000</td>\n",
       "      <td>38.000000</td>\n",
       "      <td>1.000000</td>\n",
       "      <td>0.000000</td>\n",
       "      <td>31.000000</td>\n",
       "    </tr>\n",
       "    <tr>\n",
       "      <th>max</th>\n",
       "      <td>891.000000</td>\n",
       "      <td>1.000000</td>\n",
       "      <td>3.000000</td>\n",
       "      <td>80.000000</td>\n",
       "      <td>8.000000</td>\n",
       "      <td>6.000000</td>\n",
       "      <td>512.329200</td>\n",
       "    </tr>\n",
       "  </tbody>\n",
       "</table>\n",
       "</div>"
      ],
      "text/plain": [
       "       PassengerId    Survived      Pclass         Age       SibSp  \\\n",
       "count   891.000000  891.000000  891.000000  714.000000  891.000000   \n",
       "mean    446.000000    0.383838    2.308642   29.699118    0.523008   \n",
       "std     257.353842    0.486592    0.836071   14.526497    1.102743   \n",
       "min       1.000000    0.000000    1.000000    0.420000    0.000000   \n",
       "25%     223.500000    0.000000    2.000000   20.125000    0.000000   \n",
       "50%     446.000000    0.000000    3.000000   28.000000    0.000000   \n",
       "75%     668.500000    1.000000    3.000000   38.000000    1.000000   \n",
       "max     891.000000    1.000000    3.000000   80.000000    8.000000   \n",
       "\n",
       "            Parch        Fare  \n",
       "count  891.000000  891.000000  \n",
       "mean     0.381594   32.204208  \n",
       "std      0.806057   49.693429  \n",
       "min      0.000000    0.000000  \n",
       "25%      0.000000    7.910400  \n",
       "50%      0.000000   14.454200  \n",
       "75%      0.000000   31.000000  \n",
       "max      6.000000  512.329200  "
      ]
     },
     "execution_count": 6,
     "metadata": {},
     "output_type": "execute_result"
    }
   ],
   "source": [
    "#look at DataSets\n",
    "train_data.describe()"
   ]
  },
  {
   "cell_type": "markdown",
   "metadata": {},
   "source": [
    "## Feature Engineering"
   ]
  },
  {
   "cell_type": "code",
   "execution_count": 12,
   "metadata": {},
   "outputs": [
    {
     "name": "stdout",
     "output_type": "stream",
     "text": [
      "   Pclass  Survived\n",
      "0       1  0.629630\n",
      "1       2  0.472826\n",
      "2       3  0.242363\n"
     ]
    },
    {
     "data": {
      "image/png": "[encoded data removed]",
      "text/plain": [
       "<Figure size 432x288 with 1 Axes>"
      ]
     },
     "metadata": {
      "needs_background": "light"
     },
     "output_type": "display_data"
    }
   ],
   "source": [
    "# Pclass\n",
    "\n",
    "## Mean of survivors on each Pclass\n",
    "print( train_data[[\"Pclass\",\"Survived\"]].groupby([\"Pclass\"], as_index = False).mean() )\n",
    "plot1 = train_data[[\"Pclass\",\"Survived\"]].groupby([\"Pclass\"], as_index = False).mean()\n",
    "#plot1.head(10)\n",
    "\n",
    "x_axis = plot1[\"Pclass\"]\n",
    "y_axis = plot1[\"Survived\"]\n",
    "width_n = 0.4\n",
    "bar_color = 'blue'\n",
    "\n",
    "plt.bar(x_axis, y_axis, width=width_n, color=bar_color)\n",
    "plt.show()"
   ]
  },
  {
   "cell_type": "code",
   "execution_count": 24,
   "metadata": {},
   "outputs": [
    {
     "name": "stdout",
     "output_type": "stream",
     "text": [
      "      Sex  Survived\n",
      "0  female  0.742038\n",
      "1    male  0.188908\n"
     ]
    },
    {
     "data": {
      "image/png": "[encoded data removed]",
      "text/plain": [
       "<Figure size 432x288 with 1 Axes>"
      ]
     },
     "metadata": {
      "needs_background": "light"
     },
     "output_type": "display_data"
    }
   ],
   "source": [
    "# Sex\n",
    "## Mean of survivors on each sex\n",
    "print( train_data[[\"Sex\",\"Survived\"]].groupby([\"Sex\"], as_index = False).mean() )\n",
    "\n",
    "tabela = pd.pivot_table(data=train_data, values='PassengerId', index='Sex', columns='Survived', aggfunc='count')\n",
    "# Array com os não-sobreviventes, divididos em male e female\n",
    "bar_1 = tabela[0]\n",
    "# Array com os sobreviventes, divididos em male e female\n",
    "bar_2 = tabela[1]\n",
    "# Range com a quantidade de itens das barras\n",
    "x_pos = np.arange(len(bar_1))\n",
    "\n",
    "first_bar = plt.bar(x_pos, bar_1, 0.5, color='r')\n",
    "second_bar = plt.bar(x_pos, bar_2, 0.5, color='b', bottom=bar_1)\n",
    "# Definir posição e labels no eixo X\n",
    "plt.xticks(x_pos, ('Female','Male'))\n",
    "\n",
    "plt.show()"
   ]
  },
  {
   "cell_type": "code",
   "execution_count": 29,
   "metadata": {},
   "outputs": [
    {
     "name": "stdout",
     "output_type": "stream",
     "text": [
      "   family_size  Survived\n",
      "0            1  0.303538\n",
      "1            2  0.552795\n",
      "2            3  0.578431\n",
      "3            4  0.724138\n",
      "4            5  0.200000\n",
      "5            6  0.136364\n",
      "6            7  0.333333\n",
      "7            8  0.000000\n",
      "8           11  0.000000\n",
      "is alone\n",
      "   is_alone  Survived\n",
      "0         0  0.505650\n",
      "1         1  0.303538\n"
     ]
    },
    {
     "data": {
      "text/plain": [
       "[<matplotlib.lines.Line2D at 0x7f38631a6400>]"
      ]
     },
     "execution_count": 29,
     "metadata": {},
     "output_type": "execute_result"
    },
    {
     "data": {
      "image/png": "[encoded data removed]",
      "text/plain": [
       "<Figure size 432x288 with 1 Axes>"
      ]
     },
     "metadata": {
      "needs_background": "light"
     },
     "output_type": "display_data"
    }
   ],
   "source": [
    "# Family Size\n",
    "\n",
    "## new feature, person + Siblings/Spouses + Parents/Children to determinate the size of family\n",
    "\n",
    "for data in all_data:\n",
    "    data['family_size'] = data['SibSp'] + data['Parch'] + 1\n",
    "print( train_data[[\"family_size\",\"Survived\"]].groupby([\"family_size\"], as_index = False).mean() )\n",
    "\n",
    "# Check if itś alone\n",
    "print('is alone')\n",
    "passenger_id = train_data['PassengerId']\n",
    "for data in all_data:\n",
    "    data['is_alone'] = 0\n",
    "    data.loc[data['family_size'] == 1, 'is_alone'] = 1\n",
    "print (train_data[['is_alone', 'Survived']].groupby(['is_alone'], as_index=False).mean() )\n",
    "\n",
    "#plots\n",
    "plot2 = train_data[[\"family_size\",\"Survived\"]].groupby([\"family_size\"], as_index = False).mean()\n",
    "plt.plot(plot2[\"family_size\"],plot2[\"Survived\"])"
   ]
  },
  {
   "cell_type": "code",
   "execution_count": 39,
   "metadata": {},
   "outputs": [
    {
     "name": "stdout",
     "output_type": "stream",
     "text": [
      "  Embarked  Survived\n",
      "0        C  0.553571\n",
      "1        Q  0.389610\n",
      "2        S  0.339009\n"
     ]
    },
    {
     "data": {
      "text/plain": [
       "[<matplotlib.lines.Line2D at 0x7f3862f86a58>]"
      ]
     },
     "execution_count": 39,
     "metadata": {},
     "output_type": "execute_result"
    },
    {
     "data": {
      "image/png": "[encoded data removed]",
      "text/plain": [
       "<Figure size 432x288 with 1 Axes>"
      ]
     },
     "metadata": {
      "needs_background": "light"
     },
     "output_type": "display_data"
    }
   ],
   "source": [
    "# Embarked\n",
    "\n",
    "## Replacing NA with 'S' because is the most common\n",
    "for data in all_data:\n",
    "    data['Embarked'] = data['Embarked'].fillna('S')\n",
    "print( train_data[[\"Embarked\",\"Survived\"]].groupby([\"Embarked\"], as_index = False).mean() )\n",
    "\n",
    "#plots\n",
    "plot3 = train_data[[\"Embarked\",\"Survived\"]].groupby([\"Embarked\"], as_index = False).mean()\n",
    "plt.plot(plot3[\"Embarked\"],plot3[\"Survived\"])"
   ]
  },
  {
   "cell_type": "code",
   "execution_count": 47,
   "metadata": {},
   "outputs": [
    {
     "name": "stdout",
     "output_type": "stream",
     "text": [
      "     category_fare  Survived\n",
      "0   (-0.001, 7.91]  0.197309\n",
      "1   (7.91, 14.454]  0.303571\n",
      "2   (14.454, 31.0]  0.454955\n",
      "3  (31.0, 512.329]  0.581081\n"
     ]
    },
    {
     "data": {
      "image/png": "[encoded data removed]",
      "text/plain": [
       "<Figure size 432x288 with 1 Axes>"
      ]
     },
     "metadata": {
      "needs_background": "light"
     },
     "output_type": "display_data"
    }
   ],
   "source": [
    "# Fare\n",
    "\n",
    "## using qcut to deal with NA\n",
    "for data in all_data:\n",
    "    data['Fare'] = data['Fare'].fillna(data['Fare'].median())\n",
    "train_data['category_fare'] = pd.qcut(train_data['Fare'], 4)\n",
    "print( train_data[[\"category_fare\",\"Survived\"]].groupby([\"category_fare\"], as_index = False).mean() )\n",
    "\n",
    "#plots\n",
    "plot4 = train_data[[\"category_fare\",\"Survived\"]].groupby([\"category_fare\"], as_index = False).mean()\n",
    "x_axis = plot4[\"category_fare\"].astype(str)\n",
    "y_axis = plot4[\"Survived\"]\n",
    "width_n = 0.4\n",
    "bar_color = 'blue'\n",
    "\n",
    "plt.bar(x_axis, y_axis, width=width_n, color=bar_color)\n",
    "plt.show()"
   ]
  },
  {
   "cell_type": "code",
   "execution_count": 49,
   "metadata": {},
   "outputs": [
    {
     "name": "stdout",
     "output_type": "stream",
     "text": [
      "    category_age  Survived\n",
      "0  (-0.08, 16.0]  0.532710\n",
      "1   (16.0, 32.0]  0.348889\n",
      "2   (32.0, 48.0]  0.381890\n",
      "3   (48.0, 64.0]  0.434783\n",
      "4   (64.0, 80.0]  0.090909\n"
     ]
    },
    {
     "data": {
      "image/png": "[encoded data removed]",
      "text/plain": [
       "<Figure size 432x288 with 1 Axes>"
      ]
     },
     "metadata": {
      "needs_background": "light"
     },
     "output_type": "display_data"
    }
   ],
   "source": [
    "# Age\n",
    "\n",
    "# Using mean and std\n",
    "for data in all_data:\n",
    "    age_avg  = data['Age'].mean()\n",
    "    age_std  = data['Age'].std()\n",
    "    age_null = data['Age'].isnull().sum()\n",
    "    \n",
    "    # Create a list of the size of the sum of null values with randon values based on mean and standard deviation\n",
    "    random_list = np.random.randint(age_avg - age_std, age_avg + age_std , size = age_null)\n",
    "    # fetching with randon values\n",
    "    data['Age'][pd.isna(data['Age'])] = random_list\n",
    "    data['Age'] = data['Age'].astype(int)\n",
    "\n",
    "train_data['category_age'] = pd.cut(train_data['Age'], 5)\n",
    "print( train_data[[\"category_age\",\"Survived\"]].groupby([\"category_age\"], as_index = False).mean() )\n",
    "\n",
    "#plots\n",
    "plot5 = train_data[[\"category_age\",\"Survived\"]].groupby([\"category_age\"], as_index = False).mean()\n",
    "x_axis = plot5[\"category_age\"].astype(str)\n",
    "y_axis = plot5[\"Survived\"]\n",
    "width_n = 0.4\n",
    "bar_color = 'green'\n",
    "\n",
    "plt.bar(x_axis, y_axis, width=width_n, color=bar_color)\n",
    "plt.show()\n"
   ]
  },
  {
   "cell_type": "code",
   "execution_count": 50,
   "metadata": {},
   "outputs": [
    {
     "name": "stdout",
     "output_type": "stream",
     "text": [
      "Sex     female  male\n",
      "title               \n",
      "Master       0    40\n",
      "Miss       185     0\n",
      "Mr           0   517\n",
      "Mrs        126     0\n",
      "Rare         3    20\n",
      "----------------------\n",
      "    title  Survived\n",
      "0  Master  0.575000\n",
      "1    Miss  0.702703\n",
      "2      Mr  0.156673\n",
      "3     Mrs  0.793651\n",
      "4    Rare  0.347826\n"
     ]
    },
    {
     "data": {
      "image/png": "[encoded data removed]",
      "text/plain": [
       "<Figure size 432x288 with 1 Axes>"
      ]
     },
     "metadata": {
      "needs_background": "light"
     },
     "output_type": "display_data"
    }
   ],
   "source": [
    "# Name\n",
    "\n",
    "## Using the title to classify\n",
    "def get_title(name):\n",
    "    title_search = re.search(' ([A-Za-z]+)\\. ', name)\n",
    "    if title_search:\n",
    "        return title_search.group(1)\n",
    "    return \"\"\n",
    "\n",
    "for data in all_data:\n",
    "    data['title'] = data['Name'].apply(get_title)\n",
    "\n",
    "for data in all_data:\n",
    "    data['title'] = data['title'].replace(['Lady', 'Countess','Capt', 'Col','Don', 'Dr', 'Major', 'Rev', 'Sir', 'Jonkheer', 'Dona'],'Rare')\n",
    "    data['title'] = data['title'].replace('Mlle','Miss')\n",
    "    data['title'] = data['title'].replace('Ms','Miss')\n",
    "    data['title'] = data['title'].replace('Mme','Mrs')\n",
    "    \n",
    "print(pd.crosstab(train_data['title'], train_data['Sex']))\n",
    "print(\"----------------------\")\n",
    "print(train_data[['title','Survived']].groupby(['title'], as_index = False).mean())\n",
    "\n",
    "#plots\n",
    "plot6 = train_data[[\"title\",\"Survived\"]].groupby([\"title\"], as_index = False).mean()\n",
    "x_axis = plot6[\"title\"].astype(str)\n",
    "y_axis = plot6[\"Survived\"]\n",
    "width_n = 0.4\n",
    "bar_color = 'purple'\n",
    "\n",
    "plt.bar(x_axis, y_axis, width=width_n, color=bar_color)\n",
    "plt.show()"
   ]
  },
  {
   "cell_type": "markdown",
   "metadata": {},
   "source": [
    "## Mapping Data"
   ]
  },
  {
   "cell_type": "code",
   "execution_count": 69,
   "metadata": {},
   "outputs": [
    {
     "name": "stdout",
     "output_type": "stream",
     "text": [
      "   Survived  Pclass  Sex  Age  Fare  Embarked  is_alone  title\n",
      "0         0       3    1    1     0         0         0      1\n",
      "1         1       1    0    2     3         1         0      3\n",
      "2         1       3    0    1     1         0         1      2\n",
      "3         1       1    0    2     3         0         0      3\n",
      "4         0       3    1    2     1         0         1      1\n",
      "5         0       3    1    1     1         2         1      1\n",
      "6         0       1    1    3     3         0         1      1\n",
      "7         0       3    1    0     2         0         0      4\n",
      "8         1       3    0    1     1         0         0      3\n",
      "9         1       2    0    0     2         1         0      3\n"
     ]
    }
   ],
   "source": [
    "for data in all_data:\n",
    "\n",
    "    #Mapping Sex\n",
    "    sex_map = { 'female':0 , 'male':1 }\n",
    "    data['Sex'] = data['Sex'].map(sex_map).astype(int)\n",
    "\n",
    "    #Mapping Title\n",
    "    title_map = {'Mr':1, 'Miss':2, 'Mrs':3, 'Master':4, 'Rare':5}\n",
    "    data['title'] = data['title'].map(title_map)\n",
    "    data['title'] = data['title'].fillna(0)\n",
    "\n",
    "    #Mapping Embarked\n",
    "    embark_map = {'S':0, 'C':1, 'Q':2}\n",
    "    data['Embarked'] = data['Embarked'].map(embark_map).astype(int)\n",
    "\n",
    "    #Mapping Fare\n",
    "    data.loc[ data['Fare'] <= 7.91, 'Fare']                            = 0\n",
    "    data.loc[(data['Fare'] > 7.91) & (data['Fare'] <= 14.454), 'Fare'] = 1\n",
    "    data.loc[(data['Fare'] > 14.454) & (data['Fare'] <= 31), 'Fare']   = 2\n",
    "    data.loc[ data['Fare'] > 31, 'Fare']                               = 3\n",
    "    data['Fare'] = data['Fare'].astype(int)\n",
    "\n",
    "    #Mapping Age\n",
    "    data.loc[ data['Age'] <= 16, 'Age']                       = 0\n",
    "    data.loc[(data['Age'] > 16) & (data['Age'] <= 32), 'Age'] = 1\n",
    "    data.loc[(data['Age'] > 32) & (data['Age'] <= 48), 'Age'] = 2\n",
    "    data.loc[(data['Age'] > 48) & (data['Age'] <= 64), 'Age'] = 3\n",
    "    data.loc[ data['Age'] > 64, 'Age']                        = 4\n",
    "\n",
    "#Feature Selection\n",
    "#Create list of columns to drop\n",
    "drop_elements = [\"Name\", \"Ticket\", \"Cabin\", \"SibSp\", \"Parch\", \"family_size\"]\n",
    "\n",
    "#Drop columns from both data sets\n",
    "train_data = train_data.drop(drop_elements, axis = 1)\n",
    "train_data = train_data.drop(['PassengerId','category_fare', 'category_age'], axis = 1)\n",
    "test_data = test_data.drop(drop_elements, axis = 1)\n",
    "\n",
    "#Print ready to use data\n",
    "print(train_data.head(10))"
   ]
  },
  {
   "cell_type": "markdown",
   "metadata": {},
   "source": [
    "## Prediction"
   ]
  },
  {
   "cell_type": "code",
   "execution_count": 70,
   "metadata": {},
   "outputs": [],
   "source": [
    "# Preparing the DataSet's\n",
    "\n",
    "# Train and Test data\n",
    "X_train = train_data.drop(\"Survived\", axis=1)\n",
    "Y_train = train_data[\"Survived\"]\n",
    "X_test = test_data.drop(\"PassengerId\", axis=1).copy()"
   ]
  },
  {
   "cell_type": "code",
   "execution_count": 71,
   "metadata": {},
   "outputs": [
    {
     "name": "stdout",
     "output_type": "stream",
     "text": [
      "Model Accuracy:  87.09\n"
     ]
    }
   ],
   "source": [
    "# Running our classifier\n",
    "decision_tree = DecisionTreeClassifier()\n",
    "decision_tree.fit(X_train, Y_train)\n",
    "Y_pred = decision_tree.predict(X_test)\n",
    "accuracy = round(decision_tree.score(X_train, Y_train) * 100, 2)\n",
    "print(\"Model Accuracy: \",accuracy)"
   ]
  },
  {
   "cell_type": "markdown",
   "metadata": {},
   "source": [
    "## Creating a CSV to submit"
   ]
  },
  {
   "cell_type": "code",
   "execution_count": 72,
   "metadata": {},
   "outputs": [],
   "source": [
    "#Create a CSV with results\n",
    "\n",
    "submission = pd.DataFrame({\n",
    "    \"PassengerId\":test_data[\"PassengerId\"],\n",
    "    \"Survived\": Y_pred\n",
    "})\n",
    "submission.to_csv('submission.csv', index = False)"
   ]
  },
  {
   "cell_type": "code",
   "execution_count": null,
   "metadata": {},
   "outputs": [],
   "source": []
  }
 ],
 "metadata": {
  "kernelspec": {
   "display_name": "Python 3",
   "language": "python",
   "name": "python3"
  },
  "language_info": {
   "codemirror_mode": {
    "name": "ipython",
    "version": 3
   },
   "file_extension": ".py",
   "mimetype": "text/x-python",
   "name": "python",
   "nbconvert_exporter": "python",
   "pygments_lexer": "ipython3",
   "version": "3.6.7"
  }
 },
 "nbformat": 4,
 "nbformat_minor": 2
}
